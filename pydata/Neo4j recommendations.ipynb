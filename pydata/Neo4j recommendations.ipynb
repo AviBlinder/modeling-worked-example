{
 "cells": [
  {
   "cell_type": "code",
   "execution_count": 3,
   "metadata": {
    "collapsed": true
   },
   "outputs": [],
   "source": [
    "from __future__ import unicode_literals\n",
    "from neo4j.v1 import GraphDatabase, basic_auth\n",
    "import os"
   ]
  },
  {
   "cell_type": "code",
   "execution_count": 4,
   "metadata": {
    "collapsed": false
   },
   "outputs": [],
   "source": [
    "username = os.environ.get(\"NEO4J_USERNAME\", \"neo4j\")\n",
    "password = os.environ.get(\"NEO4J_PASSWORD\", \"neo\")\n",
    "\n",
    "driver = GraphDatabase.driver(\"bolt://localhost\", auth=basic_auth(username, password), encrypted=False)\n",
    "session = driver.session()"
   ]
  },
  {
   "cell_type": "code",
   "execution_count": 5,
   "metadata": {
    "collapsed": false
   },
   "outputs": [
    {
     "name": "stdout",
     "output_type": "stream",
     "text": [
      "<Record group.name='Python for Quant Finance' topics=['Data Mining', 'Computer programming', 'Data Analytics', 'Machine Learning', 'Predictive Analytics', 'Data Visualization', 'Big Data', 'Cloud Computing', 'Trading', 'Finance', 'Python', 'New Technology', 'Open Source']>\n",
      "<Record group.name='Python and Django Coding Session' topics=['Front-end Development', 'HTML', 'Computer programming', 'Website Design', 'Programming Languages', 'Open Source', 'Software Development', 'Web Technology', 'Django', 'Web Development', 'Web Design', 'MySQL', 'Python', 'CSS']>\n",
      "<Record group.name='London Python Project Nights' topics=['New Technology', 'Technology', 'Python', 'Software Development', 'Open Source', 'Open source python', 'Computer programming', 'Projects', 'Python Web Development', 'Getting started with Python']>\n"
     ]
    }
   ],
   "source": [
    "query = \"\"\"\n",
    "MATCH (group:Group)-[:HAS_TOPIC]->(topic)\n",
    "WHERE group.name CONTAINS \"Python\" \n",
    "RETURN group.name, COLLECT(topic.name) AS topics\n",
    "\"\"\"\n",
    "\n",
    "result = session.run(query)\n",
    "\n",
    "for row in result:\n",
    "    print(row) "
   ]
  },
  {
   "cell_type": "code",
   "execution_count": 6,
   "metadata": {
    "collapsed": true
   },
   "outputs": [],
   "source": [
    "session.close()"
   ]
  },
  {
   "cell_type": "code",
   "execution_count": 11,
   "metadata": {
    "collapsed": false
   },
   "outputs": [
    {
     "data": {
      "text/plain": [
       "py2neo.cypher.core.RecordList"
      ]
     },
     "execution_count": 11,
     "metadata": {},
     "output_type": "execute_result"
    }
   ],
   "source": [
    "from py2neo import Graph\n",
    "graph = Graph()\n",
    "\n",
    "from igraph import Graph as IGraph\n",
    "\n",
    "query = \"\"\"\n",
    "MATCH (topic:Topic)<-[:HAS_TOPIC]-()-[:HAS_TOPIC]->(other:Topic)\n",
    "WHERE ID(topic) < ID(other)\n",
    "RETURN topic.name, other.name, COUNT(*) AS weight\n",
    "\"\"\"\n",
    "\n",
    "data = graph.cypher.execute(query)\n",
    "ig = IGraph.TupleList(data, weights=True)\n",
    "ig"
   ]
  },
  {
   "cell_type": "code",
   "execution_count": 8,
   "metadata": {
    "collapsed": false
   },
   "outputs": [
    {
     "data": {
      "text/plain": [
       "46"
      ]
     },
     "execution_count": 8,
     "metadata": {},
     "output_type": "execute_result"
    }
   ],
   "source": [
    "from igraph import Graph as IGraph\n",
    "\n",
    "clusters = IGraph.community_walktrap(ig, weights=\"weight\")\n",
    "clusters = clusters.as_clustering()\n",
    "len(clusters)"
   ]
  },
  {
   "cell_type": "code",
   "execution_count": 9,
   "metadata": {
    "collapsed": false
   },
   "outputs": [
    {
     "data": {
      "text/plain": []
     },
     "execution_count": 9,
     "metadata": {},
     "output_type": "execute_result"
    }
   ],
   "source": [
    "nodes = [node[\"name\"] for node in ig.vs]\n",
    "nodes = [{\"id\": x, \"label\": x} for x in nodes]\n",
    "nodes[:5]\n",
    "\n",
    "for node in nodes:\n",
    "    idx = ig.vs.find(name=node[\"id\"]).index\n",
    "    node[\"group\"] = clusters.membership[idx]\n",
    "    \n",
    "query = \"\"\"\n",
    "UNWIND {params} AS p \n",
    "MATCH (t:Topic {name: p.id}) \n",
    "MERGE (cluster:Cluster {name: p.group})\n",
    "MERGE (t)-[:IN_CLUSTER]->(cluster)\n",
    "\"\"\"\n",
    "\n",
    "graph.cypher.execute(query, params = nodes)"
   ]
  }
 ],
 "metadata": {
  "kernelspec": {
   "display_name": "Python 3",
   "language": "python",
   "name": "python3"
  },
  "language_info": {
   "codemirror_mode": {
    "name": "ipython",
    "version": 3
   },
   "file_extension": ".py",
   "mimetype": "text/x-python",
   "name": "python",
   "nbconvert_exporter": "python",
   "pygments_lexer": "ipython3",
   "version": "3.5.0"
  }
 },
 "nbformat": 4,
 "nbformat_minor": 0
}
